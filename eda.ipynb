{
 "cells": [
  {
   "cell_type": "code",
   "execution_count": 47,
   "metadata": {
    "collapsed": true
   },
   "outputs": [],
   "source": [
    "# Note: assuming python 3.5\n",
    "\n",
    "from utils.dataset import DataSet\n",
    "from utils.generate_test_splits import kfold_split\n",
    "from gavin_utils.prep_data import MyDataSet\n",
    "from gavin_utils.clean_text import FeatureGeneration\n",
    "\n",
    "from sklearn.feature_extraction.text import (\n",
    "    CountVectorizer, TfidfVectorizer\n",
    ")\n",
    "\n",
    "import pandas as pd\n",
    "import numpy as np\n",
    "\n",
    "import matplotlib.pyplot as plt\n",
    "\n",
    "%matplotlib inline"
   ]
  },
  {
   "cell_type": "code",
   "execution_count": 2,
   "metadata": {},
   "outputs": [
    {
     "name": "stdout",
     "output_type": "stream",
     "text": [
      "Reading dataset\n",
      "Total stances: 49972\n",
      "Total bodies: 1683\n",
      "Total number of headlines: 49972\n",
      "Unique headlines: 1648\n",
      "Total max possible stances: 2715904\n"
     ]
    }
   ],
   "source": [
    "train_data = DataSet(name='train', path='fnc-1')\n",
    "\n",
    "headlines = [item['Headline'] for item in train_data.stances]\n",
    "\n",
    "print(\"Total number of headlines:\", len(headlines))\n",
    "print(\"Unique headlines:\", len(set(headlines)))\n",
    "\n",
    "print(\"Total max possible stances:\", len(set(headlines)) ** 2)"
   ]
  },
  {
   "cell_type": "markdown",
   "metadata": {},
   "source": [
    "It isn't necessarily clear from the documentation, but they seem to have re-used headlines to increase the size of the data set. The actual headline for one article is \"used\" on additional articles and we still have labelled stances for these observations although most of them are probaby unrelated.\n",
    "\n",
    "# Reformat data\n",
    "\n",
    "I'm going to reformat the data into either pandas dataframes or numpy arrays. Both are easier to work with and more efficient than python standard lists/dicts."
   ]
  },
  {
   "cell_type": "code",
   "execution_count": 3,
   "metadata": {},
   "outputs": [
    {
     "name": "stdout",
     "output_type": "stream",
     "text": [
      "Reading dataset\n"
     ]
    }
   ],
   "source": [
    "all_data = MyDataSet()"
   ]
  },
  {
   "cell_type": "code",
   "execution_count": 4,
   "metadata": {},
   "outputs": [
    {
     "data": {
      "text/html": [
       "<div>\n",
       "<style>\n",
       "    .dataframe thead tr:only-child th {\n",
       "        text-align: right;\n",
       "    }\n",
       "\n",
       "    .dataframe thead th {\n",
       "        text-align: left;\n",
       "    }\n",
       "\n",
       "    .dataframe tbody tr th {\n",
       "        vertical-align: top;\n",
       "    }\n",
       "</style>\n",
       "<table border=\"1\" class=\"dataframe\">\n",
       "  <thead>\n",
       "    <tr style=\"text-align: right;\">\n",
       "      <th></th>\n",
       "      <th>Headline</th>\n",
       "      <th>Stance</th>\n",
       "      <th>body</th>\n",
       "    </tr>\n",
       "    <tr>\n",
       "      <th>Body ID</th>\n",
       "      <th></th>\n",
       "      <th></th>\n",
       "      <th></th>\n",
       "    </tr>\n",
       "  </thead>\n",
       "  <tbody>\n",
       "    <tr>\n",
       "      <th>0</th>\n",
       "      <td>Soldier shot, Parliament locked down after gun...</td>\n",
       "      <td>unrelated</td>\n",
       "      <td>A small meteorite crashed into a wooded area i...</td>\n",
       "    </tr>\n",
       "    <tr>\n",
       "      <th>0</th>\n",
       "      <td>Tourist dubbed ‘Spider Man’ after spider burro...</td>\n",
       "      <td>unrelated</td>\n",
       "      <td>A small meteorite crashed into a wooded area i...</td>\n",
       "    </tr>\n",
       "    <tr>\n",
       "      <th>0</th>\n",
       "      <td>Luke Somers 'killed in failed rescue attempt i...</td>\n",
       "      <td>unrelated</td>\n",
       "      <td>A small meteorite crashed into a wooded area i...</td>\n",
       "    </tr>\n",
       "    <tr>\n",
       "      <th>0</th>\n",
       "      <td>BREAKING: Soldier shot at War Memorial in Ottawa</td>\n",
       "      <td>unrelated</td>\n",
       "      <td>A small meteorite crashed into a wooded area i...</td>\n",
       "    </tr>\n",
       "    <tr>\n",
       "      <th>0</th>\n",
       "      <td>Giant 8ft 9in catfish weighing 19 stone caught...</td>\n",
       "      <td>unrelated</td>\n",
       "      <td>A small meteorite crashed into a wooded area i...</td>\n",
       "    </tr>\n",
       "  </tbody>\n",
       "</table>\n",
       "</div>"
      ],
      "text/plain": [
       "                                                  Headline     Stance  \\\n",
       "Body ID                                                                 \n",
       "0        Soldier shot, Parliament locked down after gun...  unrelated   \n",
       "0        Tourist dubbed ‘Spider Man’ after spider burro...  unrelated   \n",
       "0        Luke Somers 'killed in failed rescue attempt i...  unrelated   \n",
       "0         BREAKING: Soldier shot at War Memorial in Ottawa  unrelated   \n",
       "0        Giant 8ft 9in catfish weighing 19 stone caught...  unrelated   \n",
       "\n",
       "                                                      body  \n",
       "Body ID                                                     \n",
       "0        A small meteorite crashed into a wooded area i...  \n",
       "0        A small meteorite crashed into a wooded area i...  \n",
       "0        A small meteorite crashed into a wooded area i...  \n",
       "0        A small meteorite crashed into a wooded area i...  \n",
       "0        A small meteorite crashed into a wooded area i...  "
      ]
     },
     "execution_count": 4,
     "metadata": {},
     "output_type": "execute_result"
    }
   ],
   "source": [
    "train = all_data.train\n",
    "\n",
    "train.head()"
   ]
  },
  {
   "cell_type": "code",
   "execution_count": 5,
   "metadata": {},
   "outputs": [
    {
     "data": {
      "image/png": "[encoded data removed]",
      "text/plain": [
       "<matplotlib.figure.Figure at 0x11ceef550>"
      ]
     },
     "metadata": {},
     "output_type": "display_data"
    }
   ],
   "source": [
    "train['Stance'].value_counts().plot(kind='bar');\n",
    "plt.ylabel('Count');\n",
    "plt.title('Training Category Distribution');"
   ]
  },
  {
   "cell_type": "markdown",
   "metadata": {},
   "source": [
    "As suspected, there's a very large representation of the 'unrelated' stance. We should be careful during classification that we take this into account in designing an appropriate scoring metric."
   ]
  },
  {
   "cell_type": "code",
   "execution_count": 5,
   "metadata": {},
   "outputs": [
    {
     "data": {
      "text/html": [
       "<div>\n",
       "<style>\n",
       "    .dataframe thead tr:only-child th {\n",
       "        text-align: right;\n",
       "    }\n",
       "\n",
       "    .dataframe thead th {\n",
       "        text-align: left;\n",
       "    }\n",
       "\n",
       "    .dataframe tbody tr th {\n",
       "        vertical-align: top;\n",
       "    }\n",
       "</style>\n",
       "<table border=\"1\" class=\"dataframe\">\n",
       "  <thead>\n",
       "    <tr style=\"text-align: right;\">\n",
       "      <th></th>\n",
       "      <th>Headline</th>\n",
       "      <th>Stance</th>\n",
       "      <th>body</th>\n",
       "    </tr>\n",
       "    <tr>\n",
       "      <th>Body ID</th>\n",
       "      <th></th>\n",
       "      <th></th>\n",
       "      <th></th>\n",
       "    </tr>\n",
       "  </thead>\n",
       "  <tbody>\n",
       "    <tr>\n",
       "      <th>0</th>\n",
       "      <td>Small Meteorite Strikes in Nicaragua's Capital...</td>\n",
       "      <td>agree</td>\n",
       "      <td>A small meteorite crashed into a wooded area i...</td>\n",
       "    </tr>\n",
       "    <tr>\n",
       "      <th>8</th>\n",
       "      <td>What was fake on the Internet this week: Obama...</td>\n",
       "      <td>agree</td>\n",
       "      <td>There is so much fake stuff on the Internet in...</td>\n",
       "    </tr>\n",
       "    <tr>\n",
       "      <th>9</th>\n",
       "      <td>Meteorite makes big crater in Nicaragua, gover...</td>\n",
       "      <td>agree</td>\n",
       "      <td>(CNN) -- A meteorite crashed down in Managua, ...</td>\n",
       "    </tr>\n",
       "    <tr>\n",
       "      <th>9</th>\n",
       "      <td>Small Meteorite Strikes in Nicaragua's Capital...</td>\n",
       "      <td>agree</td>\n",
       "      <td>(CNN) -- A meteorite crashed down in Managua, ...</td>\n",
       "    </tr>\n",
       "    <tr>\n",
       "      <th>13</th>\n",
       "      <td>A soldier has been shot at Canada’s war memori...</td>\n",
       "      <td>agree</td>\n",
       "      <td>A SOLDIER has been shot at Canada’s National W...</td>\n",
       "    </tr>\n",
       "  </tbody>\n",
       "</table>\n",
       "</div>"
      ],
      "text/plain": [
       "                                                  Headline Stance  \\\n",
       "Body ID                                                             \n",
       "0        Small Meteorite Strikes in Nicaragua's Capital...  agree   \n",
       "8        What was fake on the Internet this week: Obama...  agree   \n",
       "9        Meteorite makes big crater in Nicaragua, gover...  agree   \n",
       "9        Small Meteorite Strikes in Nicaragua's Capital...  agree   \n",
       "13       A soldier has been shot at Canada’s war memori...  agree   \n",
       "\n",
       "                                                      body  \n",
       "Body ID                                                     \n",
       "0        A small meteorite crashed into a wooded area i...  \n",
       "8        There is so much fake stuff on the Internet in...  \n",
       "9        (CNN) -- A meteorite crashed down in Managua, ...  \n",
       "9        (CNN) -- A meteorite crashed down in Managua, ...  \n",
       "13       A SOLDIER has been shot at Canada’s National W...  "
      ]
     },
     "execution_count": 5,
     "metadata": {},
     "output_type": "execute_result"
    }
   ],
   "source": [
    "train[train['Stance'] == 'agree'].head()"
   ]
  },
  {
   "cell_type": "markdown",
   "metadata": {},
   "source": [
    "# Cleaning text\n",
    "\n",
    "* **Remove uppercase and non alphanumeric characters** to eventually reduce the overall size of the feature space. The benefits of reducing dimensionality is likely to outweigh the cost of whatever difference there may be between upper and lower case or the meaning communicated through punctuation.\n",
    "* **Use stemming or lemmatization**.\n",
    "* **Remove stopwords** that don't really contribute to meaning.\n",
    "\n",
    "# Featurization\n",
    "\n",
    "We need to go from a bag of words (really a list of words) for each data point to a vector that represents the bag of words. There are several ways to do this, and I'm going to try all of them.\n",
    "\n",
    "* **Count vectorizer**: Create a vector of the same length as the number of unique words and count the occurence in each document of those words.\n",
    "* **Text frequency-inverse document frequency** (Tf-Idf) is the same as a count vectorizer except one divides by the number of documents in which this word occured. This weights less common words as more important than more common words.\n",
    "* **Word/Doc2Vec** embeddings represent words or documents as vectors in a high dimensional space. They are fairly complicated models, but many open source models have already been trained on huge corpuses of english text."
   ]
  },
  {
   "cell_type": "code",
   "execution_count": 52,
   "metadata": {},
   "outputs": [
    {
     "name": "stdout",
     "output_type": "stream",
     "text": [
      "data reloaded\n"
     ]
    }
   ],
   "source": [
    "feature_gen = FeatureGeneration(train, name='train')"
   ]
  },
  {
   "cell_type": "code",
   "execution_count": 53,
   "metadata": {
    "collapsed": true
   },
   "outputs": [],
   "source": [
    "feature_gen.add_word_intersection()\n",
    "feature_gen.add_count_features()\n",
    "feature_gen.add_tfidf_features()"
   ]
  },
  {
   "cell_type": "code",
   "execution_count": 54,
   "metadata": {
    "collapsed": true
   },
   "outputs": [],
   "source": [
    "train = feature_gen.df"
   ]
  },
  {
   "cell_type": "code",
   "execution_count": 55,
   "metadata": {},
   "outputs": [
    {
     "data": {
      "text/html": [
       "<div>\n",
       "<style>\n",
       "    .dataframe thead tr:only-child th {\n",
       "        text-align: right;\n",
       "    }\n",
       "\n",
       "    .dataframe thead th {\n",
       "        text-align: left;\n",
       "    }\n",
       "\n",
       "    .dataframe tbody tr th {\n",
       "        vertical-align: top;\n",
       "    }\n",
       "</style>\n",
       "<table border=\"1\" class=\"dataframe\">\n",
       "  <thead>\n",
       "    <tr style=\"text-align: right;\">\n",
       "      <th></th>\n",
       "      <th>Headline</th>\n",
       "      <th>Stance</th>\n",
       "      <th>body</th>\n",
       "      <th>intersection</th>\n",
       "      <th>intersection_pct</th>\n",
       "      <th>cosine_similarity_count</th>\n",
       "      <th>headline_tfidf_vec</th>\n",
       "      <th>body_tfidf_vec</th>\n",
       "      <th>cosine_similarity_tfidf</th>\n",
       "    </tr>\n",
       "    <tr>\n",
       "      <th>Body ID</th>\n",
       "      <th></th>\n",
       "      <th></th>\n",
       "      <th></th>\n",
       "      <th></th>\n",
       "      <th></th>\n",
       "      <th></th>\n",
       "      <th></th>\n",
       "      <th></th>\n",
       "      <th></th>\n",
       "    </tr>\n",
       "  </thead>\n",
       "  <tbody>\n",
       "    <tr>\n",
       "      <th>0</th>\n",
       "      <td>[soldier, shot, parliament, locked, gunfire, e...</td>\n",
       "      <td>unrelated</td>\n",
       "      <td>[small, meteorite, crashed, wooded, area, nica...</td>\n",
       "      <td>{}</td>\n",
       "      <td>0.000000</td>\n",
       "      <td>0.000000</td>\n",
       "      <td>(0, 99425)\\t0.260701909909\\n  (0, 99388)\\t0....</td>\n",
       "      <td>(0, 102019)\\t0.0398955453155\\n  (0, 102018)\\...</td>\n",
       "      <td>0.000000</td>\n",
       "    </tr>\n",
       "    <tr>\n",
       "      <th>0</th>\n",
       "      <td>[tourist, dubbed, spider, man, spider, burrow,...</td>\n",
       "      <td>unrelated</td>\n",
       "      <td>[small, meteorite, crashed, wooded, area, nica...</td>\n",
       "      <td>{}</td>\n",
       "      <td>0.000000</td>\n",
       "      <td>0.000000</td>\n",
       "      <td>(0, 99425)\\t0.260701909909\\n  (0, 99388)\\t0....</td>\n",
       "      <td>(0, 102019)\\t0.0398955453155\\n  (0, 102018)\\...</td>\n",
       "      <td>0.000000</td>\n",
       "    </tr>\n",
       "    <tr>\n",
       "      <th>0</th>\n",
       "      <td>[luke, somers, killed, failed, rescue, attempt...</td>\n",
       "      <td>unrelated</td>\n",
       "      <td>[small, meteorite, crashed, wooded, area, nica...</td>\n",
       "      <td>{}</td>\n",
       "      <td>0.000000</td>\n",
       "      <td>0.000000</td>\n",
       "      <td>(0, 99425)\\t0.260701909909\\n  (0, 99388)\\t0....</td>\n",
       "      <td>(0, 102019)\\t0.0398955453155\\n  (0, 102018)\\...</td>\n",
       "      <td>0.000000</td>\n",
       "    </tr>\n",
       "    <tr>\n",
       "      <th>0</th>\n",
       "      <td>[breaking, soldier, shot, war, memorial, ottawa]</td>\n",
       "      <td>unrelated</td>\n",
       "      <td>[small, meteorite, crashed, wooded, area, nica...</td>\n",
       "      <td>{}</td>\n",
       "      <td>0.000000</td>\n",
       "      <td>0.000000</td>\n",
       "      <td>(0, 99425)\\t0.260701909909\\n  (0, 99388)\\t0....</td>\n",
       "      <td>(0, 102019)\\t0.0398955453155\\n  (0, 102018)\\...</td>\n",
       "      <td>0.000000</td>\n",
       "    </tr>\n",
       "    <tr>\n",
       "      <th>0</th>\n",
       "      <td>[giant, 8ft, 9in, catfish, weighing, 19, stone...</td>\n",
       "      <td>unrelated</td>\n",
       "      <td>[small, meteorite, crashed, wooded, area, nica...</td>\n",
       "      <td>{thought}</td>\n",
       "      <td>0.006897</td>\n",
       "      <td>0.006808</td>\n",
       "      <td>(0, 99425)\\t0.260701909909\\n  (0, 99388)\\t0....</td>\n",
       "      <td>(0, 102019)\\t0.0398955453155\\n  (0, 102018)\\...</td>\n",
       "      <td>0.002476</td>\n",
       "    </tr>\n",
       "  </tbody>\n",
       "</table>\n",
       "</div>"
      ],
      "text/plain": [
       "                                                  Headline     Stance  \\\n",
       "Body ID                                                                 \n",
       "0        [soldier, shot, parliament, locked, gunfire, e...  unrelated   \n",
       "0        [tourist, dubbed, spider, man, spider, burrow,...  unrelated   \n",
       "0        [luke, somers, killed, failed, rescue, attempt...  unrelated   \n",
       "0         [breaking, soldier, shot, war, memorial, ottawa]  unrelated   \n",
       "0        [giant, 8ft, 9in, catfish, weighing, 19, stone...  unrelated   \n",
       "\n",
       "                                                      body intersection  \\\n",
       "Body ID                                                                   \n",
       "0        [small, meteorite, crashed, wooded, area, nica...           {}   \n",
       "0        [small, meteorite, crashed, wooded, area, nica...           {}   \n",
       "0        [small, meteorite, crashed, wooded, area, nica...           {}   \n",
       "0        [small, meteorite, crashed, wooded, area, nica...           {}   \n",
       "0        [small, meteorite, crashed, wooded, area, nica...    {thought}   \n",
       "\n",
       "         intersection_pct  cosine_similarity_count  \\\n",
       "Body ID                                              \n",
       "0                0.000000                 0.000000   \n",
       "0                0.000000                 0.000000   \n",
       "0                0.000000                 0.000000   \n",
       "0                0.000000                 0.000000   \n",
       "0                0.006897                 0.006808   \n",
       "\n",
       "                                        headline_tfidf_vec  \\\n",
       "Body ID                                                      \n",
       "0          (0, 99425)\\t0.260701909909\\n  (0, 99388)\\t0....   \n",
       "0          (0, 99425)\\t0.260701909909\\n  (0, 99388)\\t0....   \n",
       "0          (0, 99425)\\t0.260701909909\\n  (0, 99388)\\t0....   \n",
       "0          (0, 99425)\\t0.260701909909\\n  (0, 99388)\\t0....   \n",
       "0          (0, 99425)\\t0.260701909909\\n  (0, 99388)\\t0....   \n",
       "\n",
       "                                            body_tfidf_vec  \\\n",
       "Body ID                                                      \n",
       "0          (0, 102019)\\t0.0398955453155\\n  (0, 102018)\\...   \n",
       "0          (0, 102019)\\t0.0398955453155\\n  (0, 102018)\\...   \n",
       "0          (0, 102019)\\t0.0398955453155\\n  (0, 102018)\\...   \n",
       "0          (0, 102019)\\t0.0398955453155\\n  (0, 102018)\\...   \n",
       "0          (0, 102019)\\t0.0398955453155\\n  (0, 102018)\\...   \n",
       "\n",
       "         cosine_similarity_tfidf  \n",
       "Body ID                           \n",
       "0                       0.000000  \n",
       "0                       0.000000  \n",
       "0                       0.000000  \n",
       "0                       0.000000  \n",
       "0                       0.002476  "
      ]
     },
     "execution_count": 55,
     "metadata": {},
     "output_type": "execute_result"
    }
   ],
   "source": [
    "train.head()"
   ]
  },
  {
   "cell_type": "code",
   "execution_count": 56,
   "metadata": {},
   "outputs": [
    {
     "data": {
      "text/plain": [
       "<49972x103898 sparse matrix of type '<class 'numpy.float64'>'\n",
       "\twith 16011957 stored elements in Compressed Sparse Row format>"
      ]
     },
     "execution_count": 56,
     "metadata": {},
     "output_type": "execute_result"
    }
   ],
   "source": [
    "train['body_tfidf_vec'].iloc[0]"
   ]
  },
  {
   "cell_type": "code",
   "execution_count": null,
   "metadata": {
    "collapsed": true
   },
   "outputs": [],
   "source": []
  }
 ],
 "metadata": {
  "kernelspec": {
   "display_name": "Python [conda env:bayes]",
   "language": "python",
   "name": "conda-env-bayes-py"
  },
  "language_info": {
   "codemirror_mode": {
    "name": "ipython",
    "version": 3
   },
   "file_extension": ".py",
   "mimetype": "text/x-python",
   "name": "python",
   "nbconvert_exporter": "python",
   "pygments_lexer": "ipython3",
   "version": "3.5.4"
  }
 },
 "nbformat": 4,
 "nbformat_minor": 2
}
